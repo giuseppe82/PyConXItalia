{
 "cells": [
  {
   "cell_type": "code",
   "execution_count": 1,
   "metadata": {
    "slideshow": {
     "slide_type": "skip"
    }
   },
   "outputs": [
    {
     "data": {
      "text/html": [
       "<link rel=\"stylesheet\" type=\"text/css\" href=\"custom.css\">\n"
      ],
      "text/plain": [
       "<IPython.core.display.HTML object>"
      ]
     },
     "metadata": {},
     "output_type": "display_data"
    }
   ],
   "source": [
    "%%HTML\n",
    "<link rel=\"stylesheet\" type=\"text/css\" href=\"custom.css\">"
   ]
  },
  {
   "cell_type": "markdown",
   "metadata": {
    "slideshow": {
     "slide_type": "slide"
    }
   },
   "source": [
    "# Deep Learning for brain MRI segmentation\n",
    "### Big Data, AI, and HPC meet together\n",
    "\n",
    "\n",
    "**PyConX Italian Conference**, Florence, Sun 05.05.2019\n",
    "\n",
    "*Giuseppe Di Bernardo*[<sup>1</sup>](#fn1)   \n",
    "\n",
    "<span id=\"fn1\">Data Analytics researcher @MPCDF</span>  \n",
    "<img src=\"./img/brain.jpg\" width=\"35%\" align=\"center\">\n",
    "<!--\n",
    "Slides: <a href=\"http://fabienmaussion.info/acinn_xarray_workshop\">http://fabienmaussion.info/acinn_xarray_workshop</a>\n",
    "-->\n",
    "<!--\n",
    "Notebook: <a href=\"https://github.com/fmaussion/teaching/blob/master/xarray_intro_acinn/ACINN_workshop_xarray-slides.ipynb\"> On GitHub</a> \n",
    "-->"
   ]
  },
  {
   "cell_type": "markdown",
   "metadata": {
    "collapsed": true,
    "slideshow": {
     "slide_type": "slide"
    }
   },
   "source": [
    "## Agenda\n",
    "- An Overview of AI in the HPC Landscape\n",
    "    - Learning Problems on Parallel Computer Architecture\n",
    "    - The Python AI Software Ecosystem at the MPCDF: some best practices\n",
    "- The Study Case: Segmenting Brain MRI Images    \n",
    "<!--- Brain MRI Segmentation: A Gentle Introduction-->\n",
    "    - Inferencing\n",
    "        - The Challenge\n",
    "        - Our Tile-based Strategy\n",
    "    - Tile-based Inference goes Parallel on MPCDF's Clusters \n",
    "        - 3D Reconstruction \n",
    "        - Evaluation\n",
    "- Ongoing and Future Work\n",
    "    - AI-HPC is Happening Now\n",
    "\n",
    "<img src=\"./img/checklist.png\" width=\"10%\" align=\"right\">"
   ]
  },
  {
   "cell_type": "markdown",
   "metadata": {
    "slideshow": {
     "slide_type": "notes"
    }
   },
   "source": [
    "We are living in the age of Big Data. Every day 2.5m Terabytes of data are generated [1] and this process is accelerating: According to recent estimates, 90% of all data on the internet has been generated in the last two years [1]. One answer to the problem of getting insights from this flood of data is the breathtaking development that machine learning, and in particular deep learning, has undergone in the last decade. Big efforts are being made to improve the efficiency of machine learning models. However, the increasing amount of training data, as well as the growing demands on the accuracy of these models have led to rapidly growing computational complexity."
   ]
  },
  {
   "cell_type": "markdown",
   "metadata": {
    "slideshow": {
     "slide_type": "slide"
    }
   },
   "source": [
    "## An Overview of AI in the HPC Landscape\n",
    "- *Scalability is a requirement as training is a \"big data\" problem*  \n",
    "(from: **How Neural Nets Work**, *A. Lapedes & R. Farber, 1988*: <a href=\"https://papers.nips.cc/paper/59-how-neural-nets-work.pdf\">https://papers.nips.cc/paper/59-how-neural-nets-work.pdf</a>)\n",
    "\n",
    "<img src=\"./img/abstract_how_NN.png\" width=\"75%\" align=\"center\">"
   ]
  },
  {
   "cell_type": "markdown",
   "metadata": {
    "slideshow": {
     "slide_type": "subslide"
    }
   },
   "source": [
    "### Learning problems on parallel computer architecture\n",
    "- *Machine learning tasks are often compute intensive, making them similar to traditional high-performance computing (HPC) applications*\n",
    "\n",
    "<img src=\"./img/parallel_arch.png\" width=\"90%\" align=\"center\">\n",
    "\n",
    "(Review article: **Demystifying Parallel and Distributed Deep Learning: An In-Depth Concurrency Analysis**, *T. Ben-Nun & T. Hoefler, 2018*: <a href=\"https://arxiv.org/pdf/1802.09941.pdf\">https://arxiv.org/pdf/1802.09941.pdf</a>)"
   ]
  },
  {
   "cell_type": "markdown",
   "metadata": {
    "slideshow": {
     "slide_type": "subslide"
    }
   },
   "source": [
    "### Learning problems on parallel computer architecture\n",
    "\n",
    "- *DL training is a classic high-performance computing problem which demands:*\n",
    "    - Large compute capacity in terms of `FLOPs`, memory capacity and bandwidth;\n",
    "    - A performant interconnect for fast communication of gradients and model parameters\n",
    "    - Parallel `I/O` and storage with sufficient bandwidth to keep the compute fed at scale\n",
    "<img src=\"./img/miniSGD.png\" width=\"100%\" align=\"center\">\n",
    "<!--<img src=\"./img/scaling_dl.png\" width=\"20%\" align=\"bottom\"-->"
   ]
  },
  {
   "cell_type": "markdown",
   "metadata": {
    "slideshow": {
     "slide_type": "slide"
    }
   },
   "source": [
    "## Why Python?\n",
    "<img src=\"./img/hacker_rank.png\" width=\"80%\" align=\"center\">\n",
    "\n",
    "(**_Python_**, Java, R are top 3 languages in job postings for data science and machine learning jobs : <a href=\"https://www.kdnuggets.com/2017/01/most-popular-language-machine-learning-data-science.html\">https://www.kdnuggets.com/2017/01/most-popular-language-machine-learning-data-science.html</a>) "
   ]
  },
  {
   "cell_type": "markdown",
   "metadata": {
    "slideshow": {
     "slide_type": "notes"
    }
   },
   "source": [
    "* Idea: Make Python usable beyond prototyping environment by scaling out to HPC and Big Data environments"
   ]
  },
  {
   "cell_type": "markdown",
   "metadata": {
    "slideshow": {
     "slide_type": "slide"
    }
   },
   "source": [
    "## The Python AI Software Ecosystem at the MPCDF\n",
    "<img src=\"./img/ml_python.png\" width=\"30%\" align=\"right\">\n",
    "- Due to our hierarchical module system, the ML/DL related modules will only be available after the Python module has been loaded:\n",
    "\n",
    "```bash\n",
    "gdib@cobra01:~> module load anaconda/3/5.1\n",
    "gdib@cobra01:~> python\n",
    "Python 3.6.4 |Anaconda, Inc.| (default, Jan 16 2018, 18:10:19)\n",
    "[GCC 7.2.0] on linux\n",
    "Type \"help\", \"copyright\", \"credits\" or \"license\" for more information.\n",
    ">>>\n",
    "```"
   ]
  },
  {
   "cell_type": "markdown",
   "metadata": {
    "slideshow": {
     "slide_type": "subslide"
    }
   },
   "source": [
    "### Did you know that ...\n",
    "- Faster Python application performance (e.g. Numpy, Scikit-Learn) with Intel® MKL and Intel® DAAL;\n",
    "- Always check, whether `numpy` is paired with Intel® MKL library using:\n",
    "\n",
    "```bash\n",
    "gdib@cobra01:~> python\n",
    "Python 3.6.4 |Anaconda, Inc.| (default, Jan 16 2018, 18:10:19)\n",
    "[GCC 7.2.0] on linux\n",
    "Type \"help\", \"copyright\", \"credits\" or \"license\" for more information.\n",
    ">>> import numpy as np\n",
    ">>> np.show_config()\n",
    "mkl_info:\n",
    "    libraries = ['mkl_rt', 'pthread']\n",
    "blas_mkl_info:\n",
    "    libraries = ['mkl_rt', 'pthread']\n",
    "lapack_mkl_info:\n",
    "    libraries = ['mkl_rt', 'pthread']\n",
    "```\n",
    "<img src=\"./img/intel-python.jpg\" width=\"20%\" align=\"right\">\n",
    "\n",
    "(see *F.Schlimbach's PyConX Keynote*: **[High Performance and scalability made easy for data anlytics/Machine Learning](https://www.pycon.it/conference/talks/high-performance-and-scalability-made-easy-data-analyticsmachine-learning-codes)**"
   ]
  },
  {
   "cell_type": "markdown",
   "metadata": {
    "slideshow": {
     "slide_type": "subslide"
    }
   },
   "source": [
    "### ... If it is not\n",
    "\n",
    "- you will see rows like\n",
    "\n",
    "```bash\n",
    "blas_mkl_info:\n",
    "NOT AVAILABLE\n",
    " \n",
    "lapack_mkl_info:\n",
    "NOT AVAILABLE\n",
    "```"
   ]
  },
  {
   "cell_type": "markdown",
   "metadata": {
    "slideshow": {
     "slide_type": "slide"
    }
   },
   "source": [
    "## TensorFlow (and its brothers)\n",
    "\n",
    "<img src=\"./img/TF_logo.png\" width=\"20%\" align=\"right\"> \n",
    "\n",
    "**Documentation**: https://www.tensorflow.org/\n",
    "\n",
    "**How to run TensorFlow on the MPCDF's HPC systems**: [LIBRARIES FOR DEEP LEARNING](https://www.mpcdf.mpg.de/services/computing/software/data-analytics/machine-learning-software)\n",
    "\n",
    "**Current version**: v 1.12.0\n",
    "\n",
    "**Software for Data Analytics**: [LIST OF SUPPORTED SOFTWARE](https://www.mpcdf.mpg.de/services/computing/software/data-analytics/list-of-supported-software) \n",
    "\n",
    "<!--\n",
    "**53 contributors** (latest release: 24)\n",
    "\n",
    "**Umbrellas:** [Python for data](http://pydata.org/) & [NumFOCUS](http://www.numfocus.org/) *(but no funding...)*\n",
    "\n",
    "<img src=\"./figures/logopydata.png\" width=\"17%\" align=\"left\"> \n",
    "\n",
    "<img src=\"./figures/numfocus.png\" width=\"23%\" align=\"right\">\n",
    "-->"
   ]
  },
  {
   "cell_type": "markdown",
   "metadata": {
    "slideshow": {
     "slide_type": "subslide"
    }
   },
   "source": [
    "### High Level APIs - Keras\n",
    "\n",
    "<img src=\"./img/keras-logo-2018-large-1200.png\" width=\"20%\" align=\"right\">\n",
    "\n",
    "**Documentation**: https://www.tensorflow.org/guide/keras\n",
    "\n",
    "**Current version**: v 2.2.4\n",
    "\n",
    "On the MPCDF's HPC systems you can either load the Keras (with TensorFlow on backend) module as: \n",
    "\n",
    "```\n",
    "gdib@cobra01:~> module load keras/2.2.4\n",
    "```"
   ]
  },
  {
   "cell_type": "markdown",
   "metadata": {
    "slideshow": {
     "slide_type": "subslide"
    }
   },
   "source": [
    "### or\n",
    "**`import tf.keras`**:\n",
    "\n",
    "\n",
    "```bash\n",
    "gdib@cobra01:/ptmp/gdib/projects/deep-learning/tiling_leipzig_skylake> python\n",
    "Python 3.6.4 |Anaconda, Inc.| (default, Jan 16 2018, 18:10:19)\n",
    "[GCC 7.2.0] on linux\n",
    "Type \"help\", \"copyright\", \"credits\" or \"license\" for more information.\n",
    ">>> import tensorflow as tf\n",
    ">>> from tensorflow.keras import layers\n",
    ">>> print(tf.VERSION)\n",
    "1.12.0\n",
    ">>> print(tf.keras.__version__)\n",
    "2.1.6-tf\n",
    ">>>\n",
    "```\n",
    "\n",
    "`tf.keras` is TensorFlow's implementation of the Keras API specification. This is a high-level API to build and train models that includes first-class support for TensorFlow-specific functionality."
   ]
  },
  {
   "cell_type": "markdown",
   "metadata": {
    "slideshow": {
     "slide_type": "slide"
    }
   },
   "source": [
    "## CPU Optimization: TensorFlow with Intel® MKL-DNN\n",
    "\n",
    "On the MPCDF HPC systems we provide the following libraries which can be used to improve the performance of deep  learning applications:\n",
    "\n",
    "- CPU based\n",
    "    - MKL-DNN (current version 0.14) (Source: https://github.com/intel/mkl-dnn)\n",
    "    - MLSL (current version 2018.02) (Source: https://github.com/intel/MLSL)"
   ]
  },
  {
   "cell_type": "markdown",
   "metadata": {
    "slideshow": {
     "slide_type": "subslide"
    }
   },
   "source": [
    "### Sanity Check\n",
    "\n",
    "- Check yourself if you are running the `Intel-optimized TensorFlow` distribution: running the below command must print `\"True\"` if Intel® MKL-DNN optimizations are present.\n",
    "\n",
    "```bash\n",
    "gdib@cobra01:~> python -c \"import tensorflow; print(tensorflow.pywrap_tensorflow.IsMklEnabled())\"\n",
    "/mpcdf/soft/SLE_12_SP3/packages/x86_64/anaconda/3.5.1.0/lib/python3.6/site-packages/h5py/__init__.py:36: FutureWarning: Conversion of the second argument of issubdtype from `float` to `np.floating` is deprecated. In future, it will be treated as `np.float64 == np.dtype(float).type`.\n",
    "  from ._conv import register_converters as _register_converters\n",
    "True\n",
    "```"
   ]
  },
  {
   "cell_type": "markdown",
   "metadata": {
    "slideshow": {
     "slide_type": "slide"
    }
   },
   "source": [
    "## GPU Optimization: TensorFlow with NVIDIA cuDNN\n",
    "\n",
    "On the MPCDF HPC systems we provide the following libraries which can be used to improve the performance of deep  learning applications:\n",
    "\n",
    "- GPU based\n",
    "\n",
    "    - cuDNN (current version 7.4) (Source: https://developer.nvidia.com/cudnn)\n",
    "    - NCCL (current version 2.3.7) (Source: https://developer.nvidia.com/nccl)\n",
    "<img src=\"./img/NCCL.png\" width=\"80%\" align=\"center\">"
   ]
  },
  {
   "cell_type": "markdown",
   "metadata": {
    "slideshow": {
     "slide_type": "subslide"
    }
   },
   "source": [
    "### Sanity Check\n",
    "\n",
    "- How can I ensure that my TensorFlow is running by GPU\n",
    "\n",
    "```python\n",
    ">>>from tensorflow.python.client import device_lib\n",
    ">>>print(device_lib.list_local_devices())\n",
    "\n",
    "[name: \"/device:CPU:0\"\n",
    "device_type: \"CPU\"\n",
    "memory_limit: 268435456\n",
    "locality {\n",
    "}\n",
    "incarnation: 17639903784650116782\n",
    ", name: \"/device:GPU:0\"\n",
    "device_type: \"GPU\"\n",
    "memory_limit: 31854421607\n",
    "locality {\n",
    "  bus_id: 1\n",
    "  links {\n",
    "  }\n",
    "}\n",
    "incarnation: 14866225148744489790\n",
    "physical_device_desc: \"device: 0, name: Tesla V100-PCIE-32GB, pci bus id: 0000:16:00.0, compute capability: 7.0\"\n",
    "]\n",
    "```"
   ]
  },
  {
   "cell_type": "markdown",
   "metadata": {
    "slideshow": {
     "slide_type": "slide"
    }
   },
   "source": [
    "## The Study Case: Segmenting Brain MRI Images\n",
    "\n",
    "*Our present knowledge of cortical structure is based on the analysis of physical 2D sections.[...] Now with the combination of novel 3D imaging techniques and advanced images analysis methods, such as **deep neural networks**, the study of the full three-dimensional structure of the brain is within reach (K. Thierbach (HBCS) et al. 2019, publication in progress)* \n",
    "<img src=\"./img/semantic.png\" width=\"80%\" align=\"middle\">\n",
    "\n",
    "(figure from Z. Akkus et al. 2017: [Deep Learning for Brain MRI Segmentation: State of the Artand Future Directions](https://web.stanford.edu/group/rubinlab/pubs/Akkus-2017.pdf))"
   ]
  },
  {
   "cell_type": "markdown",
   "metadata": {
    "slideshow": {
     "slide_type": "subslide"
    }
   },
   "source": [
    "### ... in collaboration with MPI for HBCS and Intel®\n",
    "- Challenges\n",
    "    - Manual analysis of 3D data is not feasible\n",
    "    - Image artefacts difficult to handle for classical image processing algorithms\n",
    "\n",
    "\n",
    "- Goals\n",
    "    - Detection and segmentation of thousands of cells\n",
    "    - Minimal labeling/annotation effort\n",
    "    - Easily adaptable method for varying protocols\n",
    "    \n",
    "\n",
    "- Solutions\n",
    "    - Parallel tile-based inference (this talk)\n",
    "    - Intel® Distribution of OpenVINO™ toolkit\n",
    "    \n",
    "<img src=\"./img/intelAI.jpg\" width=\"20%\" align=\"left\">\n",
    "<img src=\"./img/mpi-brain-cognitive.png\" width=\"50%\" align=\"right\">"
   ]
  },
  {
   "cell_type": "markdown",
   "metadata": {
    "slideshow": {
     "slide_type": "slide"
    }
   },
   "source": [
    "## Inferencing\n",
    "\n",
    "<img src=\"./img/scan_fun.png\" width=\"50%\" align=\"middle\">\n",
    "\n",
    "(from **Medium** (Stanford Healthcare for AI): [Don’t Just Scan This: Deep Learning Techniques for MRI](https://medium.com/stanford-ai-for-healthcare/dont-just-scan-this-deep-learning-techniques-for-mri-52610e9b7a85))"
   ]
  },
  {
   "cell_type": "code",
   "execution_count": 2,
   "metadata": {
    "slideshow": {
     "slide_type": "skip"
    }
   },
   "outputs": [],
   "source": [
    "import cv2\n",
    "import sys\n",
    "import math\n",
    "import tifffile\n",
    "import numpy as np\n",
    "%matplotlib inline\n",
    "# from skimage import io\n",
    "import matplotlib.cm as cm\n",
    "from skimage.filters import rank\n",
    "from math import sqrt, ceil, floor\n",
    "from skimage.morphology import disk\n",
    "from matplotlib import rc, rcParams\n",
    "from matplotlib import pyplot as plt\n",
    "from matplotlib.colors import LogNorm\n",
    "from skimage.filters import threshold_otsu\n",
    "from skimage.filters import threshold_local\n",
    "from skimage.filters import threshold_minimum\n",
    "from skimage.external.tifffile import TiffFile\n",
    "from skimage.util.shape import view_as_windows\n",
    "import warnings; warnings.simplefilter('ignore')\n",
    "rc('font',**{'family':'sans-serif','sans-serif':['Computer Modern Sans Serif']})\n",
    "rc('xtick', labelsize = 18)\n",
    "rc('ytick', labelsize = 18)\n",
    "rcParams['legend.numpoints'] = 1\n",
    "rc('text', usetex=True)"
   ]
  },
  {
   "cell_type": "markdown",
   "metadata": {
    "slideshow": {
     "slide_type": "subslide"
    }
   },
   "source": [
    "### Exploring MRI Volume Slices in Python\n",
    "\n",
    "<img src=\"./img/brain_voxel.png\" width=\"50%\" align=\"left\">\n",
    "<img src=\"./img/voxels.png\" width=\"50%\" align=\"right\">\n",
    "\n",
    "(Review article: **[MRI Segmentation of the Human Brain: Challenges, Methods, and Applications](https://www.hindawi.com/journals/cmmm/2015/450341/)**, I. Despotovic et al. 2015)"
   ]
  },
  {
   "cell_type": "code",
   "execution_count": 3,
   "metadata": {
    "slideshow": {
     "slide_type": "subslide"
    }
   },
   "outputs": [
    {
     "name": "stdout",
     "output_type": "stream",
     "text": [
      "dataset is a <class 'numpy.ndarray'>\n",
      "... of type uint16\n",
      "... and with shape (2304, 1280, 1024, 1)\n"
     ]
    }
   ],
   "source": [
    "\"\"\"\n",
    "Handle 16bit TIFF Images in Python. There seem to be quite a lot of problems with 16-bit grey scale TIFF images (especially with the Python Imaging Library - PIL).\n",
    "\"\"\"\n",
    "from skimage import io # scikit-image for image processing\n",
    "PATH=\".\"\n",
    "IMAGE = PATH+ \"/inputs/image_half.tif\"\n",
    "# The image is stored as a NumPy array. Each entry in the array is a pixel value.\n",
    "volume = io.imread(IMAGE) \n",
    "# Show that brain_im is a NumPy array\n",
    "print('dataset is a {}'.format(type(volume)))\n",
    "# Show that the data type is unsigned int\n",
    "print('... of type {}'.format(volume.dtype))\n",
    "# Show that the data type is unsigned int\n",
    "print('... and with shape {}'.format(volume.shape))"
   ]
  },
  {
   "cell_type": "markdown",
   "metadata": {
    "slideshow": {
     "slide_type": "subslide"
    }
   },
   "source": [
    "### Exploring MRI Volume Slices in Python\n",
    "\n",
    "<img src=\"./img/image_screen.png\" width=\"80%\" align=\"middle\">"
   ]
  },
  {
   "cell_type": "code",
   "execution_count": 4,
   "metadata": {
    "slideshow": {
     "slide_type": "skip"
    }
   },
   "outputs": [],
   "source": [
    "# Plot the MRI Slices\n",
    "def plot_slices(slice):\n",
    "    fig = plt.figure(figsize=(8.1,5.0))\n",
    "    ax = fig.add_subplot(1,1,1)\n",
    "\n",
    "    for axis in ['top','bottom','left','right']:\n",
    "        ax.spines[axis].set_linewidth(1.5)\n",
    "\n",
    "    ax.minorticks_on()\n",
    "    ax.tick_params('both', length=15, width=1.4, which='major')\n",
    "    ax.tick_params('both', length=10, width=1.2, which='minor')\n",
    "    cs = io.imshow(slice, cmap=cm.coolwarm)\n",
    "    cbar = fig.colorbar(cs)\n",
    "    plt.xlabel(\"Width (pixels)\", fontsize=18)\n",
    "    plt.ylabel(\"Height (pixels)\", fontsize=18)\n",
    "    plt.title(r'Brain slice at Z = 0 ',fontsize=18)\n",
    "    plt.show()"
   ]
  },
  {
   "cell_type": "code",
   "execution_count": 5,
   "metadata": {
    "slideshow": {
     "slide_type": "subslide"
    }
   },
   "outputs": [
    {
     "data": {
      "image/png": "[encoded data removed]",
      "text/plain": [
       "<Figure size 583.2x360 with 2 Axes>"
      ]
     },
     "metadata": {
      "needs_background": "light"
     },
     "output_type": "display_data"
    }
   ],
   "source": [
    "vol = volume.astype('float32') / (2**16 - 1) # Rescale the image, i.e. normalize it\n",
    "vol_ZYX = np.squeeze(vol) # Drop off the color (grayscale) channel\n",
    "slice_ZY = vol_ZYX[:, :, 0] # \"slicing\" the hyper-rectangle, along the three planes\n",
    "slice_YX = vol_ZYX[0, :, :]\n",
    "slice_ZX = vol_ZYX[:, 0, :]\n",
    "plot_slices(slice_YX) # Plot the MRI Slices"
   ]
  },
  {
   "cell_type": "markdown",
   "metadata": {
    "slideshow": {
     "slide_type": "subslide"
    }
   },
   "source": [
    "### Mixed-Scale Dense Convolutional Neural Network\n",
    "\n",
    "*“In many scientific applications, tremendous manual labor is required to annotate and tag images — it can take weeks to produce a handful of carefully delineated images[...]. “Our goal was to develop a technique that learns from a very small data set.”*\n",
    "<img src=\"./img/3-levels-of-neural-networks.png\" width=\"50%\" align=\"middle\">\n",
    "\n",
    "(Reference:  *D.M.Pelt & J.A.Sethian, 2017*, [**A mixed-scale dense convolutional neural networkfor image analysis**](https://www.pnas.org/content/pnas/early/2017/12/21/1715832114.full.pdf))"
   ]
  },
  {
   "cell_type": "markdown",
   "metadata": {
    "slideshow": {
     "slide_type": "subslide"
    }
   },
   "source": [
    "```python\n",
    "def MSD_3D(width,depth,input_shape=(None, None, None, 1),activation='sigmoid',kernel_size=(3, 3, 3),     max_dilations=10, n_output_channels=1, drop_out=0.0,dropout_at_prediction=False, batch_norm=False):\n",
    "    \"\"\"MSD 3d Network implementation\"\"\"\n",
    "    inp = Input(shape=input_shape)\n",
    "    inputs = [inp]\n",
    "\n",
    "    for i in range(depth):\n",
    "        for j in range(width):\n",
    "            s_ij = ((i * width + j) % max_dilations) + 1\n",
    "            c = _convolution_3D(n_filters=1, dilation=s_ij, inputs=inputs,\n",
    "                    kernel_size=kernel_size, drop_out=drop_out,\n",
    "                    dropout_at_prediction=dropout_at_prediction,\n",
    "                    batch_norm=batch_norm,\n",
    "                    name='layer_{}_stride_{}'.format(i, s_ij))\n",
    "            inputs.append(c)\n",
    "\n",
    "    c = Concatenate()(inputs)\n",
    "    out = Conv3D(filters=n_output_channels, kernel_size=(1, 1, 1),\n",
    "            padding='same', activation=activation)(c)\n",
    "    outputs = [out]\n",
    "    model = Model(inputs=inp, outputs=out)\n",
    "    return model\n",
    "\n",
    "model = MSD_3D(width=5,depth=8,n_output_channels=1,kernel_size=(5, 5, 5),drop_out=0.5,batch_norm=False)\n",
    "```"
   ]
  },
  {
   "cell_type": "markdown",
   "metadata": {
    "slideshow": {
     "slide_type": "subslide"
    }
   },
   "source": [
    "### Computational Challenges\n",
    "- MS-DNet Training:\n",
    "    * Implemented with TensorFlow on small patches of $96^{3}$\n",
    "    * Model Size: 100K parameters\n",
    "- MS-DNet Inferencing:\n",
    "    * Computational requirement: 16 Pflop\n",
    "    * Memory requirement: 24 TB (with `TensorFlow`)\n",
    "    * Does not fit typical 3D convolution primitive\n",
    "    * Topology structure does not allow memory reuse\n",
    "        * High data dependencies across topology\n",
    "        * Convolutions reuse all previous feature maps\n",
    "    \n",
    "(Aknowledgments: *D. Gorokhov, Y. Gorbachev, V. Kostarev* from Intel for discussions on the computational aspects and sharing material)"
   ]
  },
  {
   "cell_type": "code",
   "execution_count": 6,
   "metadata": {
    "slideshow": {
     "slide_type": "subslide"
    }
   },
   "outputs": [
    {
     "data": {
      "image/png": "[encoded data removed]",
      "text/plain": [
       "<Figure size 583.2x360 with 2 Axes>"
      ]
     },
     "metadata": {
      "needs_background": "light"
     },
     "output_type": "display_data"
    }
   ],
   "source": [
    "img_spot = vol[0:100, 1000:1100, 750:850]\n",
    "img_spot_YX = img_spot[0, :, :]\n",
    "img_spot_YX = np.squeeze(img_spot_YX)\n",
    "plot_slices(img_spot_YX)"
   ]
  },
  {
   "cell_type": "code",
   "execution_count": 7,
   "metadata": {
    "slideshow": {
     "slide_type": "skip"
    }
   },
   "outputs": [],
   "source": [
    "GROUND_TRUTH = PATH + \"/inputs/locations_half.tif\"\n",
    "PARENT = PATH + \"/tif_images/pred_notiled_max_0-100_1050-1150_800-900.tif\"\n",
    "CHILD = PATH + \"/tif_images/pred_tiled_max_over_0_0-100_1050-1150_800-900.tif\"\n",
    "CHILD_OVER = PATH + \"/tif_images/pred_tiled_max_over_25_0-100_1050-1150_800-900.tif\""
   ]
  },
  {
   "cell_type": "markdown",
   "metadata": {
    "slideshow": {
     "slide_type": "slide"
    }
   },
   "source": [
    "## Inferencing: our Tile-based Strategy"
   ]
  },
  {
   "cell_type": "code",
   "execution_count": 8,
   "metadata": {
    "slideshow": {
     "slide_type": "subslide"
    }
   },
   "outputs": [],
   "source": [
    "# Load image as Numpy array\n",
    "labels = io.imread(GROUND_TRUTH)\n",
    "parent = io.imread(PARENT)\n",
    "child = io.imread(CHILD)\n",
    "child_over = io.imread(CHILD_OVER)"
   ]
  },
  {
   "cell_type": "code",
   "execution_count": 9,
   "metadata": {
    "slideshow": {
     "slide_type": "skip"
    }
   },
   "outputs": [],
   "source": [
    "# Transform it in float\n",
    "labels_float= labels.astype('float32')\n",
    "parent_float= parent.astype('float32')\n",
    "child_float= child.astype('float32')\n",
    "child_over_float= child_over.astype('float32')"
   ]
  },
  {
   "cell_type": "code",
   "execution_count": 10,
   "metadata": {
    "slideshow": {
     "slide_type": "subslide"
    }
   },
   "outputs": [
    {
     "name": "stdout",
     "output_type": "stream",
     "text": [
      "In the Ground Truths there are 13378 non-zero pixels\n"
     ]
    }
   ],
   "source": [
    "pixels_one = np.argwhere(labels_float == 1.0)\n",
    "print(\"In the Ground Truths there are {} non-zero pixels\".format(len(pixels_one)))\n",
    "# Region selected to make inference \n",
    "region = labels_float[0:100, 1050:1150, 800:900]\n",
    "centroids_px = np.argwhere(region == 1.0)\n",
    "centroids_px # in pixels\n",
    "(zo, yo, xo) = (0, 1050, 800) # lower-left corner"
   ]
  },
  {
   "cell_type": "code",
   "execution_count": 11,
   "metadata": {
    "slideshow": {
     "slide_type": "subslide"
    }
   },
   "outputs": [
    {
     "data": {
      "text/plain": [
       "[array([   0, 1081,  873]),\n",
       " array([   4, 1072,  849]),\n",
       " array([   6, 1102,  820]),\n",
       " array([  38, 1104,  808]),\n",
       " array([  44, 1070,  827]),\n",
       " array([  44, 1122,  810]),\n",
       " array([  48, 1108,  885]),\n",
       " array([  60, 1105,  807]),\n",
       " array([  80, 1149,  876])]"
      ]
     },
     "execution_count": 11,
     "metadata": {},
     "output_type": "execute_result"
    }
   ],
   "source": [
    "# in absolute coordinates\n",
    "centroids = [centroids_px[i] + (zo, yo, xo) for i in range(len(centroids_px))]\n",
    "centroids"
   ]
  },
  {
   "cell_type": "code",
   "execution_count": 12,
   "metadata": {
    "slideshow": {
     "slide_type": "subslide"
    }
   },
   "outputs": [],
   "source": [
    "# Make a \"sphere\". We are considering spheroids of radius 5 each\n",
    "z, y, x = np.ogrid[0:100,1050:1150,800:900]\n",
    "mask0 = (z-centroids[0][0])**2 + (y-centroids[0][1])**2 + (x-centroids[0][2])**2 <= 5**2\n",
    "mask1 = (z-centroids[1][0])**2 + (y-centroids[1][1])**2 + (x-centroids[1][2])**2 <= 5**2\n",
    "mask2 = (z-centroids[2][0])**2 + (y-centroids[2][1])**2 + (x-centroids[2][2])**2 <= 5**2\n",
    "mask3 = (z-centroids[3][0])**2 + (y-centroids[3][1])**2 + (x-centroids[3][2])**2 <= 5**2\n",
    "mask4 = (z-centroids[4][0])**2 + (y-centroids[4][1])**2 + (x-centroids[4][2])**2 <= 5**2\n",
    "mask5 = (z-centroids[5][0])**2 + (y-centroids[5][1])**2 + (x-centroids[5][2])**2 <= 5**2\n",
    "mask6 = (z-centroids[6][0])**2 + (y-centroids[6][1])**2 + (x-centroids[6][2])**2 <= 5**2\n",
    "mask7 = (z-centroids[7][0])**2 + (y-centroids[7][1])**2 + (x-centroids[7][2])**2 <= 5**2\n",
    "mask8 = (z-centroids[8][0])**2 + (y-centroids[8][1])**2 + (x-centroids[8][2])**2 <= 5**2\n",
    "# Mask the ground truth pixels\n",
    "blobs = np.zeros((100,100,100))\n",
    "blobs[mask0] = 1.0\n",
    "blobs[mask1] = 1.0\n",
    "blobs[mask2] = 1.0\n",
    "blobs[mask3] = 1.0\n",
    "blobs[mask4] = 1.0\n",
    "blobs[mask5] = 1.0\n",
    "blobs[mask6] = 1.0"
   ]
  },
  {
   "cell_type": "markdown",
   "metadata": {
    "slideshow": {
     "slide_type": "subslide"
    }
   },
   "source": [
    "<img src=\"./img/ground_truths.png\" width=\"80%\" align=\"middle\">"
   ]
  },
  {
   "cell_type": "markdown",
   "metadata": {
    "slideshow": {
     "slide_type": "subslide"
    }
   },
   "source": [
    "<img src=\"./img/parent.png\" width=\"80%\" align=\"middle\">"
   ]
  },
  {
   "cell_type": "markdown",
   "metadata": {
    "slideshow": {
     "slide_type": "subslide"
    }
   },
   "source": [
    "<img src=\"./img/child.png\" width=\"80%\" align=\"middle\">"
   ]
  },
  {
   "cell_type": "markdown",
   "metadata": {
    "slideshow": {
     "slide_type": "subslide"
    }
   },
   "source": [
    "<img src=\"./img/child_overlap.png\" width=\"80%\" align=\"middle\">"
   ]
  },
  {
   "cell_type": "markdown",
   "metadata": {
    "slideshow": {
     "slide_type": "slide"
    }
   },
   "source": [
    "## Tile-based strategy goes parallel on MPCDF's clusters\n",
    "\n",
    "<img src=\"./img/input_volume.png\" width=\"30%\" align=\"left\">\n",
    "<img src=\"./img/arrow.png\" width=\"50%\" align=\"middle\">\n",
    "<!--\n",
    "<img src=\"./img/man.jpg\" width=\"20%\" align=\"left middle\">\n",
    "<img src=\"./img/job_slurm.png\" width=\"30%\" align=\"bottom\">\n",
    "-->\n",
    "<img src=\"./img/Cobra-Rows.jpg\" width=\"40%\" align=\"right\"> \n",
    "\n",
    "<!--**QUI METTERE SLURM JOB SCRIPT, SPIEGARE LA 'SUDDIVISIONE' GEOMETRICA, E ALCUNE FUNZIONALITA' DI SLURM JOB ARRAY**\n",
    "-->"
   ]
  },
  {
   "cell_type": "markdown",
   "metadata": {
    "slideshow": {
     "slide_type": "slide"
    }
   },
   "source": [
    "## 3D Tiling workflow on a typical MPCDF's HPC system\n",
    "\n",
    "<img src=\"./img/Workflow.png\" width=\"80%\" align=\"middle\">"
   ]
  },
  {
   "cell_type": "markdown",
   "metadata": {
    "slideshow": {
     "slide_type": "slide"
    }
   },
   "source": [
    "## Expanding Serial Analysis with SLURM Array\n",
    "- Solution:\n",
    "    - If the job’s and their data are independent then we can\n",
    "    - Submit a bunch of\tsimilar serial jobs\teach with their own job script\n",
    "- Slurm **job arrays** can\thelp!\n",
    "    - Create many jobs from\tone\tjob\tscript!\tEven 100’s of thousands!\n",
    "\n",
    "- Job arrays offer a mechanism for submitting and managing collections of similar jobs quickly and easily.  Typically: \n",
    "\n",
    "<img src=\"./img/job_slurm.png\" width=\"50%\" align=\"right\">"
   ]
  },
  {
   "cell_type": "markdown",
   "metadata": {
    "slideshow": {
     "slide_type": "subslide"
    }
   },
   "source": [
    "## How it works\n",
    "\n",
    "<video src=\"./img/movie.m4v\" controls>\n",
    "<!--\n",
    "<img src=\"./img/transition/transition.001.jpeg\" width=80% align=\"middle\">\n",
    "-->"
   ]
  },
  {
   "cell_type": "markdown",
   "metadata": {
    "slideshow": {
     "slide_type": "subslide"
    }
   },
   "source": [
    "## Best practice\n",
    "\n",
    "\n",
    "```bash\n",
    "gdib@cobra01:~> cat test_job_array.sh\n",
    "#!/bin/bash\n",
    "\n",
    "#MAXarrayID=$SLURM_ARRAY_TASK_MAX \n",
    "# In a SLURM job-array script, will be set to the highest job array index\n",
    "OVERLAP=50\n",
    "ZMAX=768\n",
    "YMAX=256\n",
    "XMAX=512\n",
    "ZMAXIMAGE=2304 # e.g 2048 number of stack of 2D images\n",
    "YMAXIMAGE=1280 # e.g 1024 height of the image\n",
    "XMAXIMAGE=1024 # e.g 1024 depth of the image\n",
    "\n",
    "# The idea is to do 3D -> 1D mapping. For example, for a 3D matrix with dimensions \"width\",\n",
    "# \"height\" and \"depth\", e.g.:\n",
    "# id = x + (width*y) + (width*height*z);\n",
    "# and reverse:\n",
    "# x = id % width;\n",
    "# y = (id / width)%height\n",
    "# z = id / (width*height);\n",
    "# Think about ZMAXIMAGE/ZMAX (and the same in the other directions) as the number of tiles in a row\n",
    "\n",
    "MAXarrayID=$(( $ZMAXIMAGE / $ZMAX * $YMAXIMAGE / $YMAX * $XMAXIMAGE / $XMAX ))\n",
    "# in a SLURM job array the for-loop is given \"for free\"\n",
    "# arrayID is a SLURM ENV variable\n",
    "\n",
    "for (( arrayID=0; arrayID < $MAXarrayID; arrayID++ ))\n",
    "do\n",
    "\n",
    "    x=$(( $arrayID % ($XMAXIMAGE / $XMAX) ))\n",
    "    y=$((($arrayID / ($XMAXIMAGE / $XMAX)) % ($YMAXIMAGE / $YMAX) ))\n",
    "    z=$(( $arrayID / ( ($XMAXIMAGE / $XMAX)*($YMAXIMAGE / $YMAX) ) ))\n",
    "    \n",
    "    ZSTART=$(( $z * $ZMAX - $OVERLAP ))\n",
    "    ZEND=$(( ($z + 1) * $ZMAX + $OVERLAP ))\n",
    "    YSTART=$(( $y * $YMAX -$OVERLAP ))\n",
    "    YEND=$(( ($y + 1) * $YMAX + $OVERLAP ))\n",
    "    XSTART=$(( $x * $XMAX -$OVERLAP ))\n",
    "    XEND=$(( ($x + 1) * $XMAX + $OVERLAP ))\n",
    "\n",
    "    if [[ $ZSTART -lt 0 ]]; then\n",
    "        ZSTART=0\n",
    "    fi\n",
    "    if [[ $ZEND -gt $ZMAXIMAGE ]]; then\n",
    "        ZEND=$ZMAXIMAGE\n",
    "    fi\n",
    "    if [[ $YSTART -lt 0 ]]; then\n",
    "        YSTART=0\n",
    "    fi\n",
    "    if [[ $YEND -gt $YMAXIMAGE ]]; then\n",
    "        YEND=$YMAXIMAGE\n",
    "    fi\n",
    "    if [[ $XSTART -lt 0 ]]; then\n",
    "        XSTART=0\n",
    "    fi\n",
    "    if [[ $XEND -gt $XMAXIMAGE ]]; then\n",
    "        XEND=$XMAXIMAGE\n",
    "    fi\n",
    "\n",
    "    tmpID=$(( $x + ($XMAXIMAGE / $XMAX)*$y + ($XMAXIMAGE / $XMAX) * ($YMAXIMAGE / $YMAX) *$z ))\n",
    "    echo \"Id: $arrayID; MaxID: $MAXarrayID; ComputedID: $tmpID; zyx: $z $y $x; Z: $ZSTART $ZEND; Y: $YSTART $YEND; X: $XSTART $XEND\"\n",
    "\n",
    "done\n",
    "```"
   ]
  },
  {
   "cell_type": "markdown",
   "metadata": {
    "slideshow": {
     "slide_type": "subslide"
    }
   },
   "source": [
    "```bash \n",
    "$ ./test_job_array.sh\n",
    "Id: 0; MaxID: 30; ComputedID: 0; zyx: 0 0 0; Z: 0 818; Y: 0 306; X: 0 562\n",
    "Id: 1; MaxID: 30; ComputedID: 1; zyx: 0 0 1; Z: 0 818; Y: 0 306; X: 462 1024\n",
    "Id: 2; MaxID: 30; ComputedID: 2; zyx: 0 1 0; Z: 0 818; Y: 206 562; X: 0 562\n",
    "Id: 3; MaxID: 30; ComputedID: 3; zyx: 0 1 1; Z: 0 818; Y: 206 562; X: 462 1024\n",
    "Id: 4; MaxID: 30; ComputedID: 4; zyx: 0 2 0; Z: 0 818; Y: 462 818; X: 0 562\n",
    "Id: 5; MaxID: 30; ComputedID: 5; zyx: 0 2 1; Z: 0 818; Y: 462 818; X: 462 1024\n",
    "Id: 6; MaxID: 30; ComputedID: 6; zyx: 0 3 0; Z: 0 818; Y: 718 1074; X: 0 562\n",
    "Id: 7; MaxID: 30; ComputedID: 7; zyx: 0 3 1; Z: 0 818; Y: 718 1074; X: 462 1024\n",
    "Id: 8; MaxID: 30; ComputedID: 8; zyx: 0 4 0; Z: 0 818; Y: 974 1280; X: 0 562\n",
    "Id: 9; MaxID: 30; ComputedID: 9; zyx: 0 4 1; Z: 0 818; Y: 974 1280; X: 462 1024\n",
    "Id: 10; MaxID: 30; ComputedID: 10; zyx: 1 0 0; Z: 718 1586; Y: 0 306; X: 0 562\n",
    "Id: 11; MaxID: 30; ComputedID: 11; zyx: 1 0 1; Z: 718 1586; Y: 0 306; X: 462 1024\n",
    "Id: 12; MaxID: 30; ComputedID: 12; zyx: 1 1 0; Z: 718 1586; Y: 206 562; X: 0 562\n",
    "Id: 13; MaxID: 30; ComputedID: 13; zyx: 1 1 1; Z: 718 1586; Y: 206 562; X: 462 1024\n",
    "Id: 14; MaxID: 30; ComputedID: 14; zyx: 1 2 0; Z: 718 1586; Y: 462 818; X: 0 562\n",
    "Id: 15; MaxID: 30; ComputedID: 15; zyx: 1 2 1; Z: 718 1586; Y: 462 818; X: 462 1024\n",
    "Id: 16; MaxID: 30; ComputedID: 16; zyx: 1 3 0; Z: 718 1586; Y: 718 1074; X: 0 562\n",
    "Id: 17; MaxID: 30; ComputedID: 17; zyx: 1 3 1; Z: 718 1586; Y: 718 1074; X: 462 1024\n",
    "Id: 18; MaxID: 30; ComputedID: 18; zyx: 1 4 0; Z: 718 1586; Y: 974 1280; X: 0 562\n",
    "Id: 19; MaxID: 30; ComputedID: 19; zyx: 1 4 1; Z: 718 1586; Y: 974 1280; X: 462 1024\n",
    "Id: 20; MaxID: 30; ComputedID: 20; zyx: 2 0 0; Z: 1486 2304; Y: 0 306; X: 0 562\n",
    "Id: 21; MaxID: 30; ComputedID: 21; zyx: 2 0 1; Z: 1486 2304; Y: 0 306; X: 462 1024\n",
    "Id: 22; MaxID: 30; ComputedID: 22; zyx: 2 1 0; Z: 1486 2304; Y: 206 562; X: 0 562\n",
    "Id: 23; MaxID: 30; ComputedID: 23; zyx: 2 1 1; Z: 1486 2304; Y: 206 562; X: 462 1024\n",
    "Id: 24; MaxID: 30; ComputedID: 24; zyx: 2 2 0; Z: 1486 2304; Y: 462 818; X: 0 562\n",
    "Id: 25; MaxID: 30; ComputedID: 25; zyx: 2 2 1; Z: 1486 2304; Y: 462 818; X: 462 1024\n",
    "Id: 26; MaxID: 30; ComputedID: 26; zyx: 2 3 0; Z: 1486 2304; Y: 718 1074; X: 0 562\n",
    "Id: 27; MaxID: 30; ComputedID: 27; zyx: 2 3 1; Z: 1486 2304; Y: 718 1074; X: 462 1024\n",
    "Id: 28; MaxID: 30; ComputedID: 28; zyx: 2 4 0; Z: 1486 2304; Y: 974 1280; X: 0 562\n",
    "Id: 29; MaxID: 30; ComputedID: 29; zyx: 2 4 1; Z: 1486 2304; Y: 974 1280; X: 462 1024\n",
    "```"
   ]
  },
  {
   "cell_type": "markdown",
   "metadata": {
    "slideshow": {
     "slide_type": "subslide"
    }
   },
   "source": [
    "## Recipe for running Inference on MPCDF HPC's system\n",
    "\n",
    "\n",
    "```bash\n",
    "#!/bin/bash -l\n",
    "# Standard output and error:\n",
    "#SBATCH -o ./array_Job.%A.%a.out\n",
    "#SBATCH -e ./array_Job.%A.%a.err\n",
    "# Initial working directory:\n",
    "#SBATCH -D ./\n",
    "# Job Name:\n",
    "#SBATCH -J job_array      # Job name\n",
    "# Queue:\n",
    "#\n",
    "#SBATCH --partition=medium\n",
    "# Number of nodes and MPI tasks per node:\n",
    "#SBATCH --nodes=1\n",
    "#SBATCH --ntasks-per-node=1\n",
    "# Enable Hyperthreading:\n",
    "#SBATCH --ntasks-per-core=2\n",
    "# for OpenMP:\n",
    "#SBATCH --cpus-per-task=20\n",
    "\n",
    "#SBATCH --mail-type=all\n",
    "#SBATCH --mail-user=gdib@mpcdf.mpg.de\n",
    "# Job array\n",
    "#SBATCH --array=0-29\n",
    "# wall clock limit\n",
    "#SBATCH --time=08:00:00\n",
    "# Load modules\n",
    "module load gcc/8\n",
    "module load impi/2018.2 # Intel MPI Library\n",
    "module load anaconda/3/5.1\n",
    "module load tensorflow/cpu/1.12.0\n",
    "pwd; hostname; date\n",
    "\n",
    "arrayID=$SLURM_ARRAY_TASK_ID     # will be set to the job array index value (note, it's a string)\n",
    "MAXarrayID=$SLURM_ARRAY_TASK_MAX # will be set to the highest job array index\n",
    "# MAXarrayID=$(( $ZMAXIMAGE / $ZMAX * $YMAXIMAGE / $YMAX * $XMAXIMAGE / $XMAX )) this is the number - in theory to be computed previously\n",
    "\n",
    "OVERLAP=50\n",
    "ZMAX=768\n",
    "YMAX=256\n",
    "XMAX=512\n",
    "ZMAXIMAGE=2304 # e.g 2048 number of stack of 2D images\n",
    "YMAXIMAGE=1280 # e.g 1024 height of the image\n",
    "XMAXIMAGE=1024 # e.g 1024 depth of the image\n",
    "\n",
    "x=$(( $arrayID % ($XMAXIMAGE / $XMAX) ))\n",
    "y=$((($arrayID / ($XMAXIMAGE / $XMAX)) % ($YMAXIMAGE / $YMAX) ))\n",
    "z=$(( $arrayID / ( ($XMAXIMAGE / $XMAX)*($YMAXIMAGE / $YMAX) ) ))\n",
    "\n",
    "ZSTART=$(( $z * $ZMAX - $OVERLAP ))\n",
    "ZEND=$(( ($z + 1) * $ZMAX + $OVERLAP ))\n",
    "YSTART=$(( $y * $YMAX -$OVERLAP ))\n",
    "YEND=$(( ($y + 1) * $YMAX + $OVERLAP ))\n",
    "XSTART=$(( $x * $XMAX -$OVERLAP ))\n",
    "XEND=$(( ($x + 1) * $XMAX + $OVERLAP ))\n",
    "\n",
    "if [[ $ZSTART -lt 0 ]]; then\n",
    "     ZSTART=0\n",
    "fi\n",
    "if [[ $ZEND -gt $ZMAXIMAGE ]]; then\n",
    "     ZEND=$ZMAXIMAGE\n",
    "fi\n",
    "if [[ $YSTART -lt 0 ]]; then\n",
    "     YSTART=0\n",
    "fi\n",
    "if [[ $YEND -gt $YMAXIMAGE ]]; then\n",
    "     YEND=$YMAXIMAGE\n",
    "fi\n",
    "if [[ $XSTART -lt 0 ]]; then\n",
    "     XSTART=0\n",
    "fi\n",
    "if [[ $XEND -gt $XMAXIMAGE ]]; then\n",
    "    XEND=$XMAXIMAGE\n",
    "fi\n",
    "\n",
    "# Print coordinates\n",
    "echo \"This is the task $arrayID, which will do runs $ZSTART to $ZEND in Z\"\n",
    "echo \"... $YSTART to $YEND in Y\"\n",
    "echo \"... and $XSTART to $XEND in X\"\n",
    "echo \"While the highest job array index is $MAXarrayID\"\n",
    "tmpID=$(( $x + ($XMAXIMAGE / $XMAX)*$y + ($XMAXIMAGE / $XMAX) * ($YMAXIMAGE / $YMAX) *$z ))\n",
    "echo \"Id: $arrayID; MaxID: $MAXarrayID; ComputedID: $tmpID; zyx: $z $y $x; Z: $ZSTART $ZEND; Y: $    YSTART $YEND; X: $XSTART $XEND\"\n",
    "srun python leipzig_parallel.py --id $arrayID --tiles --stiching=\"max\" --overlap $OVERLAP --window 100 --z_a $ZSTART --z_b $ZEND --y_a $YSTART --y_b $YEND --x_a $XSTART --x_b $XEND\n",
    "echo \"job finished\"\n",
    "```\n",
    "<img src=\"./img/slurm_fun.png\" width=\"50%\" align=\"right\">"
   ]
  },
  {
   "cell_type": "markdown",
   "metadata": {
    "slideshow": {
     "slide_type": "subslide"
    }
   },
   "source": [
    "### Modify the Initial Code ...\n",
    "\n",
    "```python\n",
    "def predictImageWithTiles(model, image,\n",
    "        tile_size=(50,50,50),\n",
    "        overlap=25, # 50% of overlap\n",
    "        offset = 0,\n",
    "        stiching = \"max\"):\n",
    "    \"\"\"This is a help function to calculate predictions on the initial image pixel-by-pixel.\n",
    "    At each step, predictions are computed in corrispondence of the volume occupied by the tile (dim, dim, dim).\n",
    "    Then the overlap region between two neighbouring tiles is updated with the maximum prediction value.\n",
    "    \"\"\"\n",
    "    depth_limit = image.shape[0]\n",
    "    height_limit = image.shape[1]\n",
    "    width_limit = image.shape[2]\n",
    "    zdim, ydim, xdim = tile_size # dimensions of each tile or sub-cube\n",
    "    prediction = np.zeros((depth_limit, height_limit, width_limit, 1), dtype='float32') # output tensor with the same shape as the input image\n",
    "    print(\"The image to be predicted has shape: {}\".format(prediction.shape))\n",
    "    # create input, label patches \n",
    "    rects = [] # input data region\n",
    "    o_patches = []\n",
    "    for z in range(0, depth_limit, zdim - overlap): # step = zdim - overlap\n",
    "        for y in range(0, height_limit, ydim - overlap): # step = ydim - overlap\n",
    "            for x in range(0, width_limit, xdim - overlap): # step = xdim - overlap\n",
    "                if (z + zdim > depth_limit) or (y + ydim > height_limit) or (x + xdim > width_limit):\n",
    "                    break\n",
    "                rects.append((z - offset, y - offset, x - offset,\n",
    "                    z - offset + zdim, y - offset +  ydim, x - offset + xdim))\n",
    "                o_patch = image[z:z+zdim, y:y+ydim, x:x+xdim]\n",
    "                o_patches.append(o_patch)\n",
    "                prediction_tile = model.predict(np.expand_dims(o_patch, axis=0), verbose =1,batch_size=1)[0] # considering the \"0th\" batch element\n",
    "                if stiching == \"max\":\n",
    "                    prediction[z:z+zdim, y:y+ydim, x:x+xdim] = np.maximum(prediction[z:z+zdim, y:y+ydim, x:x+xdim], prediction_tile)\n",
    "\n",
    "    n_patches = len(o_patches)\n",
    "    print(\"The selected image has  been divided into {} overlapping tiles\".format(n_patches))\n",
    "    return prediction\n",
    "```"
   ]
  },
  {
   "cell_type": "markdown",
   "metadata": {
    "slideshow": {
     "slide_type": "subslide"
    }
   },
   "source": [
    "```python\n",
    "if __name__ ==  '__main__':\n",
    "    parser = argparse.ArgumentParser(description='This is an embarassingly parallel job')\n",
    "    parser.add_argument('-t', '--tiles', action='store_true', dest='TILES',\n",
    "            help='Do you want to tile your image or not?')\n",
    "    parser.add_argument('-s', '--sticthing', action='store_true', dest='STICHING',\n",
    "            help='What kind of stiching method do you want?')\n",
    "    parser.add_argument('-o', '--overlap', dest='OVERLAP', type=float, default=25,\n",
    "            help='Tile overlap')\n",
    "    parser.add_argument('-w','--window_size', dest='TILE', type=float,default=50,\n",
    "            help='Tile size')\n",
    "    parser.add_argument('-z_a', dest='Z_A', type=float, default=0,\n",
    "            help='start in Z')\n",
    "    parser.add_argument('-z_b', dest='Z_B', type=float, default=100,\n",
    "            help='end in z')\n",
    "    parser.add_argument('-y_a', dest='Y_A', type=float, default=1050,\n",
    "            help='start in y')\n",
    "    parser.add_argument('-y_b', dest='Y_B', type=float, default=1150,\n",
    "            help='end in y')\n",
    "    parser.add_argument('-x_a', dest='X_A', type=float, default=800,\n",
    "            help='start in x')\n",
    "    parser.add_argument('-x_b', dest='X_B', type=float, default=900,\n",
    "            help='end in x')\n",
    "    args = parser.parse_args()\n",
    "\n",
    "    print(args)\n",
    "    image = IMAGE[args.z_a:args.z_b, args.y_a:args.y_b, args.x_a:args.x_b]\n",
    "\n",
    "    if args.tiles:\n",
    "        print(\"We are making inference with overlap-tiling strategy\")\n",
    "        predictions = predictImageWithTiles(model,\n",
    "            image = image,\n",
    "            tile_size = (TILE, TILE, TILE),\n",
    "            overlap = OVERLAP,\n",
    "            stiching = STICHING)\n",
    "    else:\n",
    "        print(\"We are making inference without overlap-tiling strategy\")\n",
    "        predictions = predictImageAsItIs(model,\n",
    "            image = image)\n",
    "```"
   ]
  },
  {
   "cell_type": "markdown",
   "metadata": {
    "slideshow": {
     "slide_type": "slide"
    }
   },
   "source": [
    "## 3D Reconstruction\n"
   ]
  },
  {
   "cell_type": "code",
   "execution_count": 13,
   "metadata": {
    "slideshow": {
     "slide_type": "skip"
    }
   },
   "outputs": [],
   "source": [
    "#!/usr/bin/env python3\n",
    "# -*- coding: utf-8 -*-\n",
    "import os\n",
    "import re\n",
    "import glob\n",
    "import argparse\n",
    "import warnings\n",
    "import numpy as np\n",
    "import matplotlib.cm as cm\n",
    "warnings.filterwarnings('ignore')\n",
    "from matplotlib import rc, rcParams\n",
    "from matplotlib import pyplot as plt\n",
    "from matplotlib.colors import LogNorm\n",
    "from mpl_toolkits.mplot3d import Axes3D"
   ]
  },
  {
   "cell_type": "code",
   "execution_count": 14,
   "metadata": {
    "slideshow": {
     "slide_type": "subslide"
    }
   },
   "outputs": [
    {
     "data": {
      "text/plain": [
       "['./inference/tile_0.tif',\n",
       " './inference/tile_1.tif',\n",
       " './inference/tile_2.tif',\n",
       " './inference/tile_3.tif',\n",
       " './inference/tile_4.tif',\n",
       " './inference/tile_5.tif',\n",
       " './inference/tile_6.tif',\n",
       " './inference/tile_7.tif',\n",
       " './inference/tile_8.tif',\n",
       " './inference/tile_9.tif',\n",
       " './inference/tile_10.tif',\n",
       " './inference/tile_11.tif',\n",
       " './inference/tile_12.tif',\n",
       " './inference/tile_13.tif',\n",
       " './inference/tile_14.tif',\n",
       " './inference/tile_15.tif',\n",
       " './inference/tile_16.tif',\n",
       " './inference/tile_17.tif',\n",
       " './inference/tile_18.tif',\n",
       " './inference/tile_19.tif',\n",
       " './inference/tile_20.tif',\n",
       " './inference/tile_21.tif',\n",
       " './inference/tile_22.tif',\n",
       " './inference/tile_23.tif',\n",
       " './inference/tile_24.tif',\n",
       " './inference/tile_25.tif',\n",
       " './inference/tile_26.tif',\n",
       " './inference/tile_27.tif',\n",
       " './inference/tile_28.tif',\n",
       " './inference/tile_29.tif']"
      ]
     },
     "execution_count": 14,
     "metadata": {},
     "output_type": "execute_result"
    }
   ],
   "source": [
    "#!/usr/bin/env python3\n",
    "# -*- coding: utf-8 -*-\n",
    "import cv2 as cv\n",
    "from skimage import io\n",
    "ZMAX=768 # is the dimension of each tile along z \n",
    "YMAX=256 # is the dimension of each tile along y\n",
    "XMAX=512 # is the dimension of each tile along x\n",
    "OVERLAP=50\n",
    "ZMAXIMAGE=2304 # dimension of the original image along z \n",
    "YMAXIMAGE=1280 # dimension of the original image along y\n",
    "XMAXIMAGE=1024 # dimension of the original image along x\n",
    "\n",
    "# Let's properly order the results of job arrays\n",
    "dir = \"./inference/\" #working  directory\n",
    "ext = \".tif\" # whatever extension you want\n",
    "pathname = os.path.join(dir, \"*\" + ext)\n",
    "# First get files\n",
    "files =glob.glob(pathname)\n",
    "# files = [file for file in sorted(glob.glob(pathname))] # sorted by filename\n",
    "# if you want sort files according to the digits included in the filename, you can do as following:\n",
    "files = sorted(files, key=lambda x:float(re.findall(\"(\\d+)\",x)[0]))\n",
    "files"
   ]
  },
  {
   "cell_type": "markdown",
   "metadata": {
    "slideshow": {
     "slide_type": "subslide"
    }
   },
   "source": [
    "# Let's \"glue\" the tiles all togheter\n",
    "```python\n",
    "def threeDreconstruct(files):\n",
    "\n",
    "    result = np.zeros((ZMAXIMAGE, YMAXIMAGE, XMAXIMAGE), dtype='float32') # the output volume\n",
    "    for index, file in enumerate(files):\n",
    "        image = io.imread(file)\n",
    "        image = np.squeeze(image) # the TF output is a tensor (d,h,w,c)\n",
    "        image = image.astype('float32')/(255) \n",
    "\n",
    "        x = index % (XMAXIMAGE // XMAX)\n",
    "        y = index // (XMAXIMAGE // XMAX) % (YMAXIMAGE // YMAX)\n",
    "        z = index // ((XMAXIMAGE // XMAX) * (YMAXIMAGE // YMAX))\n",
    "\n",
    "        ZSTART = z * ZMAX - OVERLAP\n",
    "        ZEND = (z + 1) * ZMAX + OVERLAP\n",
    "        YSTART = y * YMAX - OVERLAP\n",
    "        YEND = (y + 1) * YMAX + OVERLAP\n",
    "        XSTART = x * XMAX - OVERLAP\n",
    "        XEND = (x + 1) * XMAX + OVERLAP\n",
    "        if ZSTART < 0:\n",
    "            ZSTART = 0\n",
    "        if ZEND > ZMAXIMAGE:\n",
    "            ZEND = ZMAXIMAGE\n",
    "        if YSTART < 0:\n",
    "            YSTART = 0\n",
    "        if YEND > YMAXIMAGE:\n",
    "            YEND = YMAXIMAGE\n",
    "        if XSTART < 0:\n",
    "            XSTART = 0\n",
    "        if XEND > XMAXIMAGE:\n",
    "            XEND = XMAXIMAGE\n",
    "\n",
    "        print(\"Processing Image: {}\".format(file))\n",
    "        print(\"index {}\".format(index), \"z y x {}{}{}\".format(z, y, x))\n",
    "        print(\"ZSTART {} ZEND {} YSTART {} YEND {} XSTART {} XEND {}\".format(ZSTART, ZEND, YSTART, YEND, XSTART, XEND))    \n",
    "        result[ZSTART:ZEND, YSTART:YEND, XSTART:XEND] = np.maximum(result[ZSTART:ZEND, YSTART:YEND, XSTART:XEND],image)\n",
    "    result = (result*255).astype('uint8')\n",
    "    print(\"final array with shape {}\".format(result.shape))\n",
    "    print(\"final array is a {}\".format(type(result)))\n",
    "    print(\"with data type {}\".format(result.dtype))\n",
    "    return io.imsave(\"tiling_skylake.tif\", result)\n",
    "\n",
    "if __name__ == '__main__':\n",
    "    threeDreconstruct(files)\n",
    "```"
   ]
  },
  {
   "cell_type": "markdown",
   "metadata": {
    "slideshow": {
     "slide_type": "slide"
    }
   },
   "source": [
    "## Results\n",
    "***30 SLURM Job Arrays, on 15 Computing Nodes***\n",
    "\n",
    "- 2 NVIDIA-V100-Tensor-Core GPUs, 32 GB  (a job x each GPU): ~ 480 sec.\n",
    "-  80 CPUs (hyperthreading enabled) Intel(R) Xeon(R) Gold 6126 CPU @ 2.60GHz: ~ 5000 sec.\n",
    "\n",
    "<img src=\"./img/NVIDIA-V100-Tensor-Core-Math.jpg\" width=\"50%\" align=\"left\">\n",
    "<img src=\"./img/intelXeon.jpg\" width=\"25%\" align=\"right\">\n"
   ]
  },
  {
   "cell_type": "markdown",
   "metadata": {
    "slideshow": {
     "slide_type": "notes"
    }
   },
   "source": [
    "NVIDIA® Tesla® V100 Tensor Core is the most advanced data center GPU ever built to accelerate AI, high performance computing (HPC), data science and graphics. It’s powered by NVIDIA Volta architecture, comes in 16 and 32GB configurations, and offers the performance of up to 100 CPUs in a single GPU. Data scientists, researchers, and engineers can now spend less time optimizing memory usage and more time designing the next AI breakthrough."
   ]
  },
  {
   "cell_type": "markdown",
   "metadata": {
    "slideshow": {
     "slide_type": "slide"
    }
   },
   "source": [
    "## OpenVINO 3D MRI Brain Tissue Segmentation\n",
    "\n",
    "OpenVINO™ Out Of the Box + Custom Solution:\n",
    "\n",
    "- OOB Activation memory reuse during execution\n",
    "<!--- Custom 3D convolution primitive for dilation and 1 output-->\n",
    "- Custom automatic topology transformation during import to reduce data dependency\n",
    "\n",
    "RESULTS:\n",
    "- Inference can be executed on a **single XEON node**\n",
    "- OpenVINO™ memory reuse reduces **memory requirement to 1.2 TB**\n",
    "- Inference time for whole model using OpenVINO™: **41 minutes**\n",
    "\n",
    "(Aknowledgments: D. Gorokhov, Yury Gorbachev, V. Kostarev from Intel for sharing material)\n",
    "<img src=\"./img/intelAI.jpg\" width=\"10%\" align=\"left\">"
   ]
  },
  {
   "cell_type": "markdown",
   "metadata": {
    "slideshow": {
     "slide_type": "slide"
    }
   },
   "source": [
    "## Evaluation\n",
    "<!--\n",
    "<img src=\"./img/image_190.png\" width=\"50%\" align=\"top\">\n",
    "<img src=\"./img/inference_190.png\" width=\"50%\" align=\"bottom\">\n",
    "<img src=\"./img/locations_conv3D.png\" width=\"50%\" align=\"right\">\n",
    "<img src=\"./img/openvino_190.png\" width=\"50%\" align=\"left\">\n",
    "-->\n",
    "<img src=\"./img/evaluation.png\" width=\"90%\" align=\"top\">\n"
   ]
  },
  {
   "cell_type": "markdown",
   "metadata": {
    "slideshow": {
     "slide_type": "slide"
    }
   },
   "source": [
    "## Ongoing & Future Work\n",
    "\n",
    "- Tuning parameters (e.g. tile size; overlap)\n",
    "- Improving the stiching strategy\n",
    "- Growing the Training Set and Improving Predictions Quality\n",
    "    - accuracy of the AI predicted centroid segments can be further improved \n",
    "- Deep Image Prior\n",
    "    - Speed up and Parallelizzation strategy"
   ]
  },
  {
   "cell_type": "markdown",
   "metadata": {
    "slideshow": {
     "slide_type": "slide"
    }
   },
   "source": [
    "## Coming soon\n",
    "\n",
    "<img src=\"./img/TF_Replicator.png\" width=\"90%\" align=\"top\">"
   ]
  },
  {
   "cell_type": "markdown",
   "metadata": {
    "collapsed": true,
    "slideshow": {
     "slide_type": "subslide"
    }
   },
   "source": [
    "## Thank you!\n",
    "\n",
    "Questions: giuseppe.di-bernardo@mpcdf.mpg.de"
   ]
  },
  {
   "cell_type": "markdown",
   "metadata": {
    "slideshow": {
     "slide_type": "slide"
    }
   },
   "source": [
    "## Backup Slides"
   ]
  },
  {
   "cell_type": "markdown",
   "metadata": {
    "slideshow": {
     "slide_type": "subslide"
    }
   },
   "source": [
    "### Optimizig Scikit-Learn with Intel DAAL \n",
    "\n",
    "<img src=\"./img/daal_intel.png\" width=\"90%\" align=\"top\">"
   ]
  }
 ],
 "metadata": {
  "anaconda-cloud": {},
  "celltoolbar": "Slideshow",
  "kernelspec": {
   "display_name": "Python 3",
   "language": "python",
   "name": "python3"
  },
  "language_info": {
   "codemirror_mode": {
    "name": "ipython",
    "version": 3
   },
   "file_extension": ".py",
   "mimetype": "text/x-python",
   "name": "python",
   "nbconvert_exporter": "python",
   "pygments_lexer": "ipython3",
   "version": "3.7.1"
  }
 },
 "nbformat": 4,
 "nbformat_minor": 2
}
